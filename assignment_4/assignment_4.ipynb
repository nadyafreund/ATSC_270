{
 "cells": [
  {
   "cell_type": "markdown",
   "id": "bd61f82f",
   "metadata": {},
   "source": [
    "# ASSIGNMENT #4 - SURFACE WEATHER DATA #\n",
    "Due: 31 March 2024 @ 11:59p"
   ]
  },
  {
   "cell_type": "markdown",
   "id": "816b3dd4",
   "metadata": {},
   "source": [
    "Purpose:\\\n",
    "The purpose of this assignment is to continue to strengthen skills with reading in data by reading in surface observations from a text file.  The data is then plotted on a map to begin to familiarize with plotting weather data on maps.\n",
    "\n",
    "Overview:\\\n",
    "In this assignment you will read in surface weather data, quality control that data, and plot that data .\n",
    "\n",
    "\n",
    "| | UPDATE TO YOUR INFORMATION | \n",
    "| :- | :- |\n",
    "| Created By | Jared W. Marquis |\n",
    "| Creation Date | 18 January 2024 |\n",
    "| Course | ATSC 270 - Computer Concepts in Meteorology |"
   ]
  },
  {
   "cell_type": "code",
   "execution_count": 3,
   "id": "eb870142",
   "metadata": {},
   "outputs": [],
   "source": [
    "### UPDATE TO YOUR INFORMATION ###\n",
    "#information allowing anyone with the code to print the author and contact information\n",
    "__author__=\"Nadya E. Freund\"\n",
    "__contact__=\"nadya.feund@und.edu\""
   ]
  },
  {
   "cell_type": "markdown",
   "id": "7dec3f1b",
   "metadata": {},
   "source": [
    "### IMPORT REQUIRED LIBRARIES ###"
   ]
  },
  {
   "cell_type": "code",
   "execution_count": 4,
   "id": "b4b5cb45",
   "metadata": {},
   "outputs": [],
   "source": [
    "import numpy as np\n",
    "\n",
    "import metpy.calc as mpcalc\n",
    "from metpy.units import units\n",
    "from metpy.plots import current_weather, sky_cover, StationPlot, simple_layout\n",
    "from metpy.io import metar\n",
    "\n",
    "import pandas as pd\n",
    "\n",
    "import matplotlib.pyplot as plt\n",
    "\n",
    "import cartopy.crs as ccrs\n",
    "import cartopy.feature as cfeature"
   ]
  },
  {
   "cell_type": "markdown",
   "id": "1df8fe8f",
   "metadata": {},
   "source": [
    "### OPEN OBSERVATIONS TEXT FILE ###\n",
    "Open the text file containing the surface observations using the metpy metar reader -> metar.parse_metar_file(filename)."
   ]
  },
  {
   "cell_type": "code",
   "execution_count": 10,
   "id": "808daf73",
   "metadata": {},
   "outputs": [
    {
     "name": "stdout",
     "output_type": "stream",
     "text": [
      "           station_id  latitude   longitude  elevation           date_time  \\\n",
      "station_id                                                                   \n",
      "KGYH             KGYH     34.75  -82.380000      292.0 2024-02-12 20:47:00   \n",
      "KMFV             KMFV     37.63  -75.770000       15.0 2024-02-12 20:55:00   \n",
      "KPLD             KPLD     40.45  -84.983333      282.0 2024-02-12 20:55:00   \n",
      "KIKT             KIKT     28.52  -88.280000       25.0 2024-02-12 20:50:00   \n",
      "PAKU             PAKU     70.31 -149.580000        2.0 2024-02-12 20:45:00   \n",
      "...               ...       ...         ...        ...                 ...   \n",
      "OIYY             OIYY     31.90   54.280000     1236.0 2024-02-12 21:50:00   \n",
      "ORNI             ORNI     31.98   44.400000       53.0 2024-02-14 21:00:00   \n",
      "NFTV             NFTV    -18.57 -173.970000       71.0 2024-02-12 21:00:00   \n",
      "NFTL             NFTL    -19.78 -174.330000        3.0 2024-02-12 21:00:00   \n",
      "NFTF             NFTF    -21.23 -175.150000       38.0 2024-02-12 21:00:00   \n",
      "\n",
      "            wind_direction  wind_speed  wind_gust  visibility current_wx1  \\\n",
      "station_id                                                                  \n",
      "KGYH                  60.0        12.0        NaN    4828.032         +RA   \n",
      "KMFV                 100.0         6.0        NaN   16093.440         NaN   \n",
      "KPLD                 130.0        10.0        NaN    8046.720         -SN   \n",
      "KIKT                 240.0        22.0       32.0    4828.032          BR   \n",
      "PAKU                 100.0        21.0        NaN    4828.032        BLSN   \n",
      "...                    ...         ...        ...         ...         ...   \n",
      "OIYY                 120.0         4.0        NaN   10000.000         NaN   \n",
      "ORNI                 240.0         7.0        NaN    6000.000         NaN   \n",
      "NFTV                  90.0        15.0        NaN    9999.000       -SHRA   \n",
      "NFTL                  90.0        22.0        NaN    9999.000         NaN   \n",
      "NFTF                  90.0        16.0        NaN    9999.000         NaN   \n",
      "\n",
      "            ... air_temperature dew_point_temperature altimeter  \\\n",
      "station_id  ...                                                   \n",
      "KGYH        ...             7.0                   6.0     29.61   \n",
      "KMFV        ...             9.0                   5.0     29.99   \n",
      "KPLD        ...             1.0                   1.0     29.16   \n",
      "KIKT        ...            23.0                  21.0     29.68   \n",
      "PAKU        ...           -15.0                 -16.0     29.96   \n",
      "...         ...             ...                   ...       ...   \n",
      "OIYY        ...            11.0                  -3.0     29.88   \n",
      "ORNI        ...            11.0                   6.0     30.03   \n",
      "NFTV        ...            28.0                  24.0     29.88   \n",
      "NFTL        ...            29.0                  23.0     29.91   \n",
      "NFTF        ...            27.0                  23.0     29.94   \n",
      "\n",
      "            current_wx1_symbol current_wx2_symbol  current_wx3_symbol  \\\n",
      "station_id                                                              \n",
      "KGYH                        65                 10                   0   \n",
      "KMFV                         0                  0                   0   \n",
      "KPLD                        71                  0                   0   \n",
      "KIKT                        10                  0                   0   \n",
      "PAKU                        38                 10                   0   \n",
      "...                        ...                ...                 ...   \n",
      "OIYY                         0                  0                   0   \n",
      "ORNI                         0                  0                   0   \n",
      "NFTV                        80                  0                   0   \n",
      "NFTL                         0                  0                   0   \n",
      "NFTF                         0                  0                   0   \n",
      "\n",
      "                  remarks  air_pressure_at_sea_level eastward_wind  \\\n",
      "station_id                                                           \n",
      "KGYH                                         1003.81    -10.392305   \n",
      "KMFV        AO2 T00890049                    1015.92     -5.908847   \n",
      "KPLD            AO2 P0007                     989.18     -7.660444   \n",
      "KIKT                  A01                    1005.29     19.052559   \n",
      "PAKU                                         1014.89    -20.680963   \n",
      "...                   ...                        ...           ...   \n",
      "OIYY                                         1012.21     -3.464102   \n",
      "ORNI                                         1017.39      6.062178   \n",
      "NFTV                                         1011.92    -15.000000   \n",
      "NFTL                                         1013.28    -22.000000   \n",
      "NFTF                                         1014.11    -16.000000   \n",
      "\n",
      "            northward_wind  \n",
      "station_id                  \n",
      "KGYH         -6.000000e+00  \n",
      "KMFV          1.041889e+00  \n",
      "KPLD          6.427876e+00  \n",
      "KIKT          1.100000e+01  \n",
      "PAKU          3.646612e+00  \n",
      "...                    ...  \n",
      "OIYY          2.000000e+00  \n",
      "ORNI          3.500000e+00  \n",
      "NFTV         -9.184851e-16  \n",
      "NFTL         -1.347111e-15  \n",
      "NFTF         -9.797174e-16  \n",
      "\n",
      "[9383 rows x 31 columns]\n"
     ]
    }
   ],
   "source": [
    "data=metar.parse_metar_file('metar_20240112_2100.txt')\n",
    "print(data)\n",
    "\n",
    "station_id=data['station_id']\n",
    "\n",
    "latitude=data['latitude']\n",
    "\n",
    "longitude=data['longitude']\n",
    "\n",
    "elevation=data['elevation']\n",
    "elevation=elevation*units('meters')\n",
    "\n",
    "date_time=data['date_time']\n",
    "\n",
    "wind_direction=data['wind_direction']\n",
    "wind_direction=wind_direction*units('degrees')\n",
    "\n",
    "wind_speed=data['wind_speed']\n",
    "wind_speed=wind_speed*units('knots')\n",
    "\n",
    "wind_gust=data['wind_gust']\n",
    "wind_gust=wind_gust*units('knots')\n",
    "\n",
    "visibility=data['visibility']\n",
    "visibility=visibility*units('')\n",
    "\n",
    "current_wx1=data['current_wx1']\n",
    "current_wx1=current_wx1*units('current_wx1')\n",
    "\n",
    "air_temperature=data['air_temperature']\n",
    "air_temperature=air_temperature*units('degC')"
   ]
  },
  {
   "cell_type": "markdown",
   "id": "7c16f59b",
   "metadata": {},
   "source": [
    "### REMOVE DATA THAT IS INCOMPLETE ###\n",
    "Just remove data with no wind direction or wind speed."
   ]
  },
  {
   "cell_type": "code",
   "execution_count": 21,
   "id": "11986b6a",
   "metadata": {
    "scrolled": true
   },
   "outputs": [
    {
     "name": "stdout",
     "output_type": "stream",
     "text": [
      "Empty DataFrame\n",
      "Columns: [station_id, latitude, longitude, elevation, date_time, wind_direction, wind_speed, wind_gust, visibility, current_wx1, current_wx2, current_wx3, low_cloud_type, low_cloud_level, medium_cloud_type, medium_cloud_level, high_cloud_type, high_cloud_level, highest_cloud_type, highest_cloud_level, cloud_coverage, air_temperature, dew_point_temperature, altimeter, current_wx1_symbol, current_wx2_symbol, current_wx3_symbol, remarks, air_pressure_at_sea_level, eastward_wind, northward_wind]\n",
      "Index: []\n",
      "\n",
      "[0 rows x 31 columns]\n"
     ]
    }
   ],
   "source": [
    "df=data.dropna()\n",
    "print(df)"
   ]
  },
  {
   "cell_type": "markdown",
   "id": "433c0828",
   "metadata": {},
   "source": [
    "### PLOT MAP ###"
   ]
  },
  {
   "cell_type": "code",
   "execution_count": null,
   "id": "bd3f91d8",
   "metadata": {},
   "outputs": [],
   "source": [
    "#map projection jusing a Lambert Conformal Projection\n",
    "#we'll center the map at 100W,35N\n",
    "proj = ccrs.LambertConformal(central_longitude=-100,central_latitude=35)\n",
    "\n",
    "#create 10\" x 10\" figure with a dpi=100\n",
    "\n",
    "#add subplot with projection\n",
    "ax = fig.add_subplot(1,1,1,projection=proj)\n",
    "\n",
    "#add elements to make map more useable\n",
    "ax.add_feature(cfeature.LAND)\n",
    "ax.add_feature(cfeature.OCEAN)\n",
    "ax.add_feature(cfeature.LAKES)\n",
    "ax.add_feature(cfeature.COASTLINE)\n",
    "ax.add_feature(cfeature.STATES)\n",
    "ax.add_feature(cfeature.BORDERS)\n",
    "\n",
    "#zoom on the CONUS\n",
    "#lon_min = -120\n",
    "#lon_max = -75\n",
    "#lat_min = 23\n",
    "#lat_max = 50\n",
    "ax.set_extent((-120, -75, 23, 50))\n",
    "\n",
    "fig.tight_layout()\n",
    "\n",
    "#save the map as empty_map.png\n"
   ]
  },
  {
   "cell_type": "markdown",
   "id": "15531a05",
   "metadata": {},
   "source": [
    "### PLOT A NEW MAP BUT ADD SURFACE OBS LOCATIONS ###"
   ]
  },
  {
   "cell_type": "code",
   "execution_count": null,
   "id": "a182606a",
   "metadata": {},
   "outputs": [],
   "source": [
    "\n",
    "\n",
    "#plot surface obs using scatter plot\n",
    "\n",
    "\n",
    "fig.tight_layout()\n",
    "#save the map as obs_locations.png\n"
   ]
  },
  {
   "cell_type": "markdown",
   "id": "f1ad0c17",
   "metadata": {},
   "source": [
    "### WAY TOO MANY OBS ###\n",
    "There are way too many obs for us to be able to actually see what the weather is.  We need to \"thin\" the obs in areas of very high densiy.\n",
    "\n",
    "We'll do this using the *metpy.calc.reduce_point_density* function.\n",
    "\n",
    "Find a density that works well for you.  The units for density are meters, so 100000 is roughly one observation/100km.\n"
   ]
  },
  {
   "cell_type": "code",
   "execution_count": null,
   "id": "49801c96",
   "metadata": {},
   "outputs": [],
   "source": [
    "#first convert the lat/lon to map projection coordinates\n",
    "locs = proj.transform_points(ccrs.PlateCarree(),data['longitude'].values,data['latitude'].values)\n",
    "\n",
    "#now thin the data\n"
   ]
  },
  {
   "cell_type": "markdown",
   "id": "ecc881a4",
   "metadata": {},
   "source": [
    "### SAVE OBS LOCATIONS ON NEW MAP ###"
   ]
  },
  {
   "cell_type": "code",
   "execution_count": null,
   "id": "fa8c8d29",
   "metadata": {},
   "outputs": [],
   "source": [
    "#save the map as obs_locations_thinned.png\n"
   ]
  },
  {
   "cell_type": "markdown",
   "id": "06ba3914",
   "metadata": {},
   "source": [
    "### ONCE YOU'RE HAPPY WITH THE DENSITY, PLOT SURFACE STATIONS ###\n",
    "For this use the *StationPlot* object in metpy -> https://unidata.github.io/MetPy/latest/api/generated/metpy.plots.StationPlot.html"
   ]
  },
  {
   "cell_type": "code",
   "execution_count": null,
   "id": "35974330",
   "metadata": {},
   "outputs": [],
   "source": [
    "#save the map as simple_surface_obs.png\n"
   ]
  },
  {
   "cell_type": "markdown",
   "id": "21faa23a",
   "metadata": {},
   "source": [
    "### PLOT NORTHERN PLAINS ###\n",
    "Now we are going to focus on the Northern Great Plains and make a custom layout.<br>\n",
    "We will set the extent to 150W to 90W and 40N to 50N.<br>\n",
    "We will also need to re-thin the data since we will be zoomed in and can see more obs.<br><br>\n",
    "Data that will be plotted:<br>\n",
    " - Temperature in the top left\n",
    " - Dewpoint in bottom left\n",
    " - Pressure in top right\n",
    " - Station ID in bottom right\n",
    " - Current weather on left\n",
    " - Visibility in miles on far left\n",
    " - Wind barb in black\n",
    " - Wind gust barb in red"
   ]
  },
  {
   "cell_type": "code",
   "execution_count": null,
   "id": "5b08f2da",
   "metadata": {},
   "outputs": [],
   "source": [
    "#rethin data (90km works well)\n"
   ]
  },
  {
   "cell_type": "code",
   "execution_count": null,
   "id": "d6b0ab89",
   "metadata": {},
   "outputs": [],
   "source": [
    "#create wind gust vectors\n",
    "#do this by multiplying each component by the ratio of gust to speed\n"
   ]
  },
  {
   "cell_type": "code",
   "execution_count": null,
   "id": "b4fac4f9",
   "metadata": {},
   "outputs": [],
   "source": [
    "#map projection\n",
    "proj = ccrs.LambertConformal(central_longitude=-95,central_latitude=35)\n",
    "\n",
    "#create figure\n",
    "fig = plt.figure(figsize=(10,10),dpi=100)\n",
    "ax = fig.add_subplot(1,1,1,projection=proj)\n",
    "\n",
    "#add elements to make map more useable\n",
    "ax.add_feature(cfeature.COASTLINE)\n",
    "ax.add_feature(cfeature.STATES)\n",
    "ax.add_feature(cfeature.BORDERS)\n",
    "\n",
    "#zoom on the Northern Plains\n",
    "ax.set_extent((-105, -90, 40, 50))\n",
    "\n",
    "\n",
    "#create stationplot (will actually need to create 2 to handle wind gusts)\n",
    "\n",
    "#temperature in red\n",
    "\n",
    "#dewpoint in dark green\n",
    "\n",
    "#pressure (need to format to be the final 3 digits)\n",
    "\n",
    "#station ID in dark blue\n",
    "\n",
    "#visibility in black (need to convert from meters to miles)\n",
    "\n",
    "#wind gust in red\n",
    "\n",
    "#wind in black\n",
    "\n",
    "#cloud cover\n",
    "\n",
    "#current weather\n",
    "\n",
    "#save the map as surface_obs.png\n"
   ]
  },
  {
   "cell_type": "code",
   "execution_count": null,
   "id": "1cd669dc",
   "metadata": {},
   "outputs": [],
   "source": []
  }
 ],
 "metadata": {
  "kernelspec": {
   "display_name": "Python 3 (ipykernel)",
   "language": "python",
   "name": "python3"
  },
  "language_info": {
   "codemirror_mode": {
    "name": "ipython",
    "version": 3
   },
   "file_extension": ".py",
   "mimetype": "text/x-python",
   "name": "python",
   "nbconvert_exporter": "python",
   "pygments_lexer": "ipython3",
   "version": "3.11.7"
  }
 },
 "nbformat": 4,
 "nbformat_minor": 5
}
